{
  "nbformat": 4,
  "nbformat_minor": 0,
  "metadata": {
    "colab": {
      "provenance": [],
      "include_colab_link": true
    },
    "kernelspec": {
      "name": "python3",
      "display_name": "Python 3"
    },
    "language_info": {
      "name": "python"
    }
  },
  "cells": [
    {
      "cell_type": "markdown",
      "metadata": {
        "id": "view-in-github",
        "colab_type": "text"
      },
      "source": [
        "<a href=\"https://colab.research.google.com/github/ayadassouki/ayadassouki-ACL-Task-A-Sentiment-Analysis/blob/main/gpt2(attempt).ipynb\" target=\"_parent\"><img src=\"https://colab.research.google.com/assets/colab-badge.svg\" alt=\"Open In Colab\"/></a>"
      ]
    },
    {
      "cell_type": "code",
      "execution_count": null,
      "metadata": {
        "id": "TXpbYnVWuXKu"
      },
      "outputs": [],
      "source": [
        "# installing modules\n",
        "%pip install torch\n",
        "%pip install transformers"
      ]
    },
    {
      "cell_type": "code",
      "source": [
        "# importing modules\n",
        "import torch\n",
        "from transformers import GPT2LMHeadModel, GPT2Tokenizer"
      ],
      "metadata": {
        "id": "Jfvy2FC9ucpj"
      },
      "execution_count": null,
      "outputs": []
    },
    {
      "cell_type": "code",
      "source": [
        "# initialize tokenizer and model from pretrained GPT2 model from Huggingface\n",
        "tokenizer = GPT2Tokenizer.from_pretrained('gpt2')\n",
        "model = GPT2LMHeadModel.from_pretrained('gpt2')"
      ],
      "metadata": {
        "id": "6uR98XOV-0Q3"
      },
      "execution_count": null,
      "outputs": []
    },
    {
      "cell_type": "code",
      "source": [
        "# sentence\n",
        "sequence = \"What is AI?\""
      ],
      "metadata": {
        "id": "eZsenJ_v-bls"
      },
      "execution_count": null,
      "outputs": []
    },
    {
      "cell_type": "code",
      "source": [
        "# encoding sentence for model to process\n",
        "inputs = tokenizer.encode(sequence, return_tensors='pt')"
      ],
      "metadata": {
        "id": "vKQJbZKj-e-_"
      },
      "execution_count": null,
      "outputs": []
    },
    {
      "cell_type": "code",
      "source": [
        "# generating text\n",
        "outputs = model.generate(inputs, max_length=200, do_sample=True, num_beams=5, no_repeat_ngram_size=2, early_stopping=True)"
      ],
      "metadata": {
        "id": "Kh5D0AeP-hIO"
      },
      "execution_count": null,
      "outputs": []
    },
    {
      "cell_type": "code",
      "source": [
        "# decoding text\n",
        "text = tokenizer.decode(outputs[0], skip_special_tokens=True)\n",
        "# printing output\n",
        "print(text)"
      ],
      "metadata": {
        "id": "prKjAa8m-jlR"
      },
      "execution_count": null,
      "outputs": []
    },
    {
      "cell_type": "code",
      "source": [
        "from transformers import AutoModelForCausalLM, AutoTokenizer\n",
        "\n",
        "model = AutoModelForCausalLM.from_pretrained(\"gpt2\")\n",
        "tokenizer = AutoTokenizer.from_pretrained(\"gpt2\")\n",
        "\n",
        "prompt = \"GPT2 is a model developed by OpenAI.\"\n",
        "\n",
        "input_ids = tokenizer(prompt, return_tensors=\"pt\").input_ids\n",
        "\n",
        "gen_tokens = model.generate(\n",
        "    input_ids,\n",
        "    do_sample=True,\n",
        "    temperature=0.9,\n",
        "    max_length=100,\n",
        ")\n",
        "gen_text = tokenizer.batch_decode(gen_tokens)[0]\n",
        "gen_text"
      ],
      "metadata": {
        "id": "cizWC1dH-s35"
      },
      "execution_count": null,
      "outputs": []
    },
    {
      "cell_type": "code",
      "source": [
        "import pandas as pd\n",
        "df = pd.read_csv('eng.csv')\n",
        "df.head()"
      ],
      "metadata": {
        "id": "HD-e7gurcyJ3"
      },
      "execution_count": null,
      "outputs": []
    },
    {
      "cell_type": "code",
      "source": [
        "df.drop(['id'], axis=1, inplace=True)\n",
        "df.head()"
      ],
      "metadata": {
        "id": "GtsZu6tUfa25"
      },
      "execution_count": null,
      "outputs": []
    },
    {
      "cell_type": "code",
      "source": [
        "from transformers import GPT2LMHeadModel, GPT2Tokenizer\n",
        "\n",
        "# Load pre-trained GPT-2 model and tokenizer\n",
        "model = GPT2LMHeadModel.from_pretrained(\"gpt2\")\n",
        "tokenizer = GPT2Tokenizer.from_pretrained(\"gpt2\")"
      ],
      "metadata": {
        "id": "KGuFZFECfCM5"
      },
      "execution_count": null,
      "outputs": []
    },
    {
      "cell_type": "code",
      "source": [
        "from transformers import AutoModelForCausalLM, AutoTokenizer\n",
        "\n",
        "# Load the GPT-2 model and tokenizer\n",
        "model = AutoModelForCausalLM.from_pretrained(\"gpt2\")\n",
        "tokenizer = AutoTokenizer.from_pretrained(\"gpt2\")\n",
        "\n",
        "# Sample text\n",
        "text = \"I just got the best news today! I'm so excited and happy.\"\n",
        "\n",
        "# Construct a more strict prompt\n",
        "prompt = f\"\"\"\n",
        "You are a sentiment analysis model. Analyze the following text and return the result in the specified dictionary format only. Do not add any other text, explanations, or information.\n",
        "\n",
        "Text: {text}\n",
        "\n",
        "Output in the following format:\n",
        "{{\"Anger\": <value>, \"Fear\": <value>, \"Joy\": <value>, \"Sadness\": <value>, \"Surprise\": <value>}}\n",
        "\n",
        "The values should be binary (1 for presence, 0 for absence) based on the text.\n",
        "\n",
        "Only return the output in this exact format. Do not add or remove anything. Provide the output below:\n",
        "\"\"\"\n",
        "\n",
        "# Tokenize the input prompt\n",
        "input_ids = tokenizer(prompt, return_tensors=\"pt\").input_ids\n",
        "\n",
        "# Generate the response from the model\n",
        "gen_tokens = model.generate(\n",
        "    input_ids,\n",
        "    do_sample=True,  # Enable sampling\n",
        "    temperature=0.7,  # Sampling temperature (controls creativity)\n",
        "    max_length=200,  # Maximum length of the generated text\n",
        "    num_return_sequences=1  # Return a single sequence\n",
        ")\n",
        "\n",
        "# Decode the generated tokens to text\n",
        "gen_text = tokenizer.batch_decode(gen_tokens, skip_special_tokens=True)[0]\n",
        "\n",
        "# Output the generated text\n",
        "print(gen_text)\n"
      ],
      "metadata": {
        "id": "mzTrh7GQfGRu"
      },
      "execution_count": null,
      "outputs": []
    },
    {
      "cell_type": "code",
      "source": [],
      "metadata": {
        "id": "Blj22UgOfOY4"
      },
      "execution_count": null,
      "outputs": []
    },
    {
      "cell_type": "code",
      "source": [],
      "metadata": {
        "id": "Cgr6zGr_fueg"
      },
      "execution_count": null,
      "outputs": []
    }
  ]
}