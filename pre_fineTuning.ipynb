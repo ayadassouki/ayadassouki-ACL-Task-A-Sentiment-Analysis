{
  "cells": [
    {
      "cell_type": "markdown",
      "metadata": {
        "id": "view-in-github",
        "colab_type": "text"
      },
      "source": [
        "<a href=\"https://colab.research.google.com/github/ayadassouki/ayadassouki-ACL-Task-A-Sentiment-Analysis/blob/main/pre_fineTuning.ipynb\" target=\"_parent\"><img src=\"https://colab.research.google.com/assets/colab-badge.svg\" alt=\"Open In Colab\"/></a>"
      ]
    },
    {
      "cell_type": "code",
      "source": [
        "import os\n",
        "import google.generativeai as genai\n",
        "import json\n",
        "import time\n",
        "import pandas as pd\n",
        "from tqdm import tqdm\n",
        "from getpass import getpass\n",
        "\n",
        "# Securely input your API key\n",
        "API_KEY = getpass('Enter your API key: ')\n",
        "genai.configure(api_key=API_KEY)\n",
        "\n",
        "# Initialize model\n",
        "model = genai.GenerativeModel(\"gemini-1.5-flash\")  # Ensure 'gemini-1.5-flash' is the correct model name\n"
      ],
      "metadata": {
        "id": "MjvLceyc-3-n"
      },
      "execution_count": null,
      "outputs": []
    },
    {
      "cell_type": "code",
      "execution_count": null,
      "metadata": {
        "id": "j2w4jLc2C7Wj"
      },
      "outputs": [],
      "source": [
        "import pandas as pd\n",
        "def load_data(filePath):\n",
        "    data = pd.read_csv(filePath)\n",
        "    return data"
      ]
    },
    {
      "cell_type": "code",
      "execution_count": null,
      "metadata": {
        "id": "2-jYanC5DQkX"
      },
      "outputs": [],
      "source": [
        "import re\n",
        "\n",
        "def clean_text(text):\n",
        "  # Remove special characters and punctuation\n",
        "  text = re.sub(r\"[^\\w\\s]\", \" \", text)\n",
        "\n",
        "  # Remove single characters\n",
        "  text = re.sub(r\"\\b[a-zA-Z]\\b\", \" \", text)\n",
        "\n",
        "  # Remove HTML tags\n",
        "  text = re.sub(r\"<[^>]*>\", \" \", text)\n",
        "\n",
        "  # Lowercase the text\n",
        "  text = text.lower()\n",
        "\n",
        "  # Remove extra whitespace\n",
        "  text = re.sub(r\"\\s+\", \" \", text)\n",
        "\n",
        "  # Trim leading and trailing spaces\n",
        "  text = text.strip()\n",
        "\n",
        "  return text"
      ]
    },
    {
      "cell_type": "code",
      "execution_count": null,
      "metadata": {
        "id": "jTJXTQ33DUve"
      },
      "outputs": [],
      "source": [
        "def clean_df(data):\n",
        "  texts = data['text'].to_list()\n",
        "  clean_texts = [clean_text(t) for t in texts]\n",
        "  data['clean_text'] = clean_texts\n",
        "  data.head()"
      ]
    },
    {
      "cell_type": "code",
      "execution_count": null,
      "metadata": {
        "id": "O9C7OsuYDire"
      },
      "outputs": [],
      "source": [
        "# Necessary packages\n",
        "import pathlib\n",
        "import textwrap\n",
        "\n",
        "import google.generativeai as genai\n",
        "\n",
        "from IPython.display import display\n",
        "from IPython.display import Markdown\n",
        "\n",
        "\n",
        "def to_markdown(text):\n",
        "  text = text.replace('•', '  *')\n",
        "  return Markdown(textwrap.indent(text, '> ', predicate=lambda _: True))\n",
        "\n",
        "# Used to securely store your API key\n",
        "from google.colab import userdata"
      ]
    },
    {
      "cell_type": "code",
      "execution_count": null,
      "metadata": {
        "id": "HoajJGHODjjm"
      },
      "outputs": [],
      "source": []
    },
    {
      "cell_type": "code",
      "execution_count": null,
      "metadata": {
        "id": "RCAjVjZ-Dp0e"
      },
      "outputs": [],
      "source": [
        "def add_pred_colunm(data):\n",
        "  pred_emotion = ['p_anger', 'p_fear', 'p_joy', 'p_sadness', 'p_surprise']\n",
        "  for emotion in pred_emotion:\n",
        "    data[emotion] = ''\n",
        "  data.head()"
      ]
    },
    {
      "cell_type": "code",
      "execution_count": null,
      "metadata": {
        "id": "wQrW0O9lD2Ou"
      },
      "outputs": [],
      "source": [
        "def df_to_json(data):\n",
        "  json_data = data[['clean_text','p_anger', 'p_fear', 'p_joy', 'p_sadness', 'p_surprise']].to_json(orient='records')\n",
        "  return json_data"
      ]
    },
    {
      "cell_type": "code",
      "execution_count": null,
      "metadata": {
        "id": "sjOaMmVlEP2-"
      },
      "outputs": [],
      "source": [
        "full_data = load_data('eng.csv')\n",
        "data = full_data.head(100)\n",
        "clean_df(data)\n",
        "add_pred_colunm(data)\n",
        "json_data = df_to_json(data)\n",
        "data.head()\n"
      ]
    },
    {
      "cell_type": "code",
      "execution_count": null,
      "metadata": {
        "id": "M21ITX2NEW4m"
      },
      "outputs": [],
      "source": [
        "json_data"
      ]
    },
    {
      "cell_type": "code",
      "execution_count": null,
      "metadata": {
        "id": "IiO0S4fTE5gf"
      },
      "outputs": [],
      "source": [
        "len(json_data)"
      ]
    },
    {
      "cell_type": "code",
      "execution_count": null,
      "metadata": {
        "id": "MsqV6_1CGQO_"
      },
      "outputs": [],
      "source": [
        "prompt = f\"\"\"\n",
        "You are an expert linguist, who is good at classifying customer review sentiments into specific emotions.\n",
        "Help me classify customer reviews into the following emotions: Anger, Fear, Surprise, Sadness, and Joy.\n",
        "The customer reviews are provided between three back ticks.\n",
        "In your output, only return the Json code back as output - which is provided between three backticks.\n",
        "Your task is to update the predicted labels under 'p_anger', 'p_fear', 'p_surprise', 'p_sadness', and 'p_joy' in the Json code as values of 0 or 1.\n",
        "Don't make any changes to the Json code format, please.\n",
        "```\n",
        "{json_data}\n",
        "```\n",
        "\"\"\"\n",
        "prompt"
      ]
    },
    {
      "cell_type": "code",
      "execution_count": null,
      "metadata": {
        "id": "gNJS-QBUGgne"
      },
      "outputs": [],
      "source": [
        "response = model.generate_content(prompt)\n",
        "\n",
        "print(response.text)"
      ]
    },
    {
      "cell_type": "code",
      "execution_count": null,
      "metadata": {
        "id": "5QAhuwWkGlW_"
      },
      "outputs": [],
      "source": [
        "import json\n",
        "json_data = response.text.strip('```json\\n').strip('\\n```')\n",
        "llm_data = json.loads(json_data)"
      ]
    },
    {
      "cell_type": "code",
      "execution_count": null,
      "metadata": {
        "id": "5s4x2aZWG5Bf"
      },
      "outputs": [],
      "source": [
        "llm_data"
      ]
    },
    {
      "cell_type": "code",
      "execution_count": null,
      "metadata": {
        "id": "mJQyNiJEG6QG"
      },
      "outputs": [],
      "source": [
        "sub_df = pd.DataFrame(llm_data)\n",
        "sub_df"
      ]
    },
    {
      "cell_type": "code",
      "execution_count": null,
      "metadata": {
        "id": "o2Bkoa9-H_Ng"
      },
      "outputs": [],
      "source": [
        "pred_emotion = ['p_anger', 'p_fear', 'p_joy', 'p_sadness', 'p_surprise']\n",
        "for emotion in pred_emotion:\n",
        "  data[emotion] = sub_df[emotion].values\n",
        "data.head()"
      ]
    },
    {
      "cell_type": "code",
      "execution_count": null,
      "metadata": {
        "id": "pZPqlGQPKNvg"
      },
      "outputs": [],
      "source": [
        "from sklearn.metrics import classification_report\n",
        "\n",
        "# Assuming you have true labels in the DataFrame as 'true_anger', 'true_fear', etc.\n",
        "true_labels = ['Anger', 'Fear', 'Joy', 'Sadness', 'Surprise']\n",
        "pred_emotion = ['p_anger', 'p_fear', 'p_joy', 'p_sadness', 'p_surprise']\n",
        "\n",
        "# Create an empty dictionary to store classification reports for each emotion\n",
        "classification_reports = {}\n",
        "\n",
        "# Iterate through each emotion and calculate the classification report\n",
        "for true_label, pred_label in zip(true_labels, pred_emotion):\n",
        "    true_values = data[true_label]  # True labels for the emotion\n",
        "    pred_values = data[pred_label]  # Predicted labels for the emotion\n",
        "\n",
        "    # Convert predicted values to integers to match true values\n",
        "    pred_values = pred_values.astype(int)\n",
        "\n",
        "    # Generate the classification report\n",
        "    report = classification_report(true_values, pred_values)\n",
        "\n",
        "    # Store the report in the dictionary\n",
        "    classification_reports[true_label] = report\n",
        "\n",
        "# Print the classification reports\n",
        "for emotion, report in classification_reports.items():\n",
        "    print(f\"Classification Report for {emotion}:\")\n",
        "    print(report)\n",
        "    print(\"\\n\")"
      ]
    },
    {
      "cell_type": "code",
      "execution_count": null,
      "metadata": {
        "id": "pBtHqX1MKQzQ"
      },
      "outputs": [],
      "source": [
        "def json_batch(json_data, batch_size):\n",
        "  batch_list = []\n",
        "  for i in range(0, len(json_data), batch_size):\n",
        "    batch = json_data[i:i+batch_size]\n",
        "    batch_list.append(batch)\n",
        "  return batch_list"
      ]
    },
    {
      "cell_type": "code",
      "execution_count": null,
      "metadata": {
        "id": "63f45788"
      },
      "outputs": [],
      "source": [
        "import json\n",
        "data = pd.read_csv('eng.csv')\n",
        "clean_df(data)\n",
        "add_pred_colunm(data)\n",
        "json_data = df_to_json(data)\n",
        "item_dict = json.loads(json_data)\n",
        "json_batch_list = json_batch(item_dict, 5)\n",
        "len(json_batch_list)\n"
      ]
    },
    {
      "cell_type": "code",
      "source": [
        "prompt = f\"\"\"\n",
        "  You are an expert linguist, who is good at classifying customer review sentiments into specific emotions.\n",
        "  Help me classify customer reviews into the following emotions: Anger, Fear, Surprise, Sadness, and Joy.\n",
        "  The customer reviews are provided between three back ticks.\n",
        "  In your output, only return the Json code back as output - which is provided between three backticks.\n",
        "  Your task is to update the predicted labels under 'p_anger', 'p_fear', 'p_surprise', 'p_sadness', and 'p_joy' in the Json code as values of 0 or 1.\n",
        "  Don't make any changes to the Json code format, please.\n",
        "  ```\n",
        "  {json_batch_list[0]}\n",
        "  ```\n",
        "  \"\"\"\n",
        "prompt"
      ],
      "metadata": {
        "id": "cnTJIgxRwTKZ"
      },
      "execution_count": null,
      "outputs": []
    },
    {
      "cell_type": "code",
      "source": [
        "response = model.generate_content(prompt)\n",
        "response.text"
      ],
      "metadata": {
        "id": "wphs1MArywCu"
      },
      "execution_count": null,
      "outputs": []
    },
    {
      "cell_type": "code",
      "source": [
        "import time\n",
        "predictions = []\n",
        "for i in range(len(json_batch_list)):\n",
        "    prompt = f\"\"\"\n",
        "    You are an expert linguist, who is good at classifying customer review sentiments into specific emotions.\n",
        "    Help me classify customer reviews into the following emotions: Anger, Fear, Surprise, Sadness, and Joy.\n",
        "    The customer reviews are provided between three back ticks.\n",
        "    In your output, only return the Json code back as output - which is provided between three backticks.\n",
        "    Your task is to update the predicted labels under 'p_anger', 'p_fear', 'p_surprise', 'p_sadness', and 'p_joy' in the Json code as values of 0 or 1.\n",
        "    Don't make any changes to the Json code format, please.\n",
        "    ```\n",
        "    {json_batch_list[i]}\n",
        "    ```\n",
        "    \"\"\"\n",
        "    try:\n",
        "        response = model.generate_content(prompt)\n",
        "        json_data = response.text.strip('```json\\n').strip('\\n```')\n",
        "        predictions.append(json_data)\n",
        "    except Exception as e:\n",
        "        print(f\"Error for batch {i}: {e}\")\n",
        "    time.sleep(4)  # Adjust delay based on API rate limits\n"
      ],
      "metadata": {
        "id": "RYcAWhCCyzka"
      },
      "execution_count": null,
      "outputs": []
    },
    {
      "cell_type": "code",
      "source": [
        "predictions"
      ],
      "metadata": {
        "id": "g999znEIKqgW"
      },
      "execution_count": null,
      "outputs": []
    },
    {
      "cell_type": "code",
      "source": [],
      "metadata": {
        "id": "4GUwQEe9PIjN"
      },
      "execution_count": null,
      "outputs": []
    },
    {
      "cell_type": "code",
      "source": [
        "import json\n",
        "import re\n",
        "\n",
        "def clean_predictions(predictions):\n",
        "    cleaned_predictions = []\n",
        "    error_batches = []\n",
        "\n",
        "    for batch in predictions:\n",
        "        # Step 1: Standardize quotes (replace single quotes with double quotes where necessary)\n",
        "        batch_fixed = batch.replace(\"'\", '\"')\n",
        "\n",
        "        # Step 2: Remove unwanted line breaks and spaces\n",
        "        batch_fixed = re.sub(r'\\s+', ' ', batch_fixed)\n",
        "\n",
        "        # Step 3: Ensure valid JSON format using regex\n",
        "        batch_fixed = re.sub(r'(?<![:,\\[\\{])\\s*\"\\s*(.*?)\\s*\"\\s*:\\s*', r'\"\\1\":', batch_fixed)\n",
        "        batch_fixed = re.sub(r',\\s*}', '}', batch_fixed)  # Remove trailing commas before closing braces\n",
        "        batch_fixed = re.sub(r',\\s*]', ']', batch_fixed)  # Remove trailing commas before closing brackets\n",
        "\n",
        "        # Step 4: Wrap in brackets if needed\n",
        "        if not batch_fixed.startswith('[') and not batch_fixed.endswith(']'):\n",
        "            batch_fixed = '[' + batch_fixed + ']'\n",
        "\n",
        "        # Attempt JSON parsing\n",
        "        try:\n",
        "            cleaned_batch = json.loads(batch_fixed)\n",
        "            cleaned_predictions.extend(cleaned_batch)\n",
        "        except json.JSONDecodeError as e:\n",
        "            print(f\"JSON decoding error: {e} on batch: {batch_fixed[:200]}...\")\n",
        "            error_batches.append(batch_fixed)\n",
        "\n",
        "    return cleaned_predictions, error_batches\n",
        "\n",
        "# Example usage:\n",
        "fixed_predictions, errors = clean_predictions(predictions)\n",
        "\n",
        "# Check cleaned predictions and remaining errors\n",
        "print(f\"Number of valid predictions: {len(fixed_predictions)}\")\n",
        "print(f\"Number of batches with errors: {len(errors)}\")\n"
      ],
      "metadata": {
        "id": "SWEbNnzMy3yI"
      },
      "execution_count": null,
      "outputs": []
    },
    {
      "cell_type": "code",
      "source": [
        "def fix_error_batches(error_batches):\n",
        "    corrected_batches = []\n",
        "    remaining_errors = []\n",
        "\n",
        "    for batch in error_batches:\n",
        "        # Try additional regex cleanup for common errors\n",
        "        batch = re.sub(r',\\s*([\\]}])', r'\\1', batch)  # Remove commas before } or ]\n",
        "        batch = re.sub(r'([{\\[,])\\s*,', r'\\1', batch)  # Remove extra commas after {, [ or ,\n",
        "        batch = re.sub(r'([a-zA-Z0-9])\\s*:\\s*(?=[\"\\'])', r'\"\\1\": ', batch)  # Fix missing quotes on keys\n",
        "\n",
        "        # Attempt parsing again\n",
        "        try:\n",
        "            corrected_batches.extend(json.loads(batch))\n",
        "        except json.JSONDecodeError as e:\n",
        "            print(f\"Still failing: {e} on batch: {batch[:200]}...\")\n",
        "            remaining_errors.append(batch)\n",
        "\n",
        "    return corrected_batches, remaining_errors\n",
        "\n",
        "# Try to fix the error batches\n",
        "corrected_predictions, remaining_issues = fix_error_batches(errors)\n",
        "\n",
        "# Add corrected predictions to the cleaned list\n",
        "final_predictions = fixed_predictions + corrected_predictions\n",
        "\n",
        "print(f\"Final number of valid predictions: {len(final_predictions)}\")\n",
        "print(f\"Remaining problematic batches: {len(remaining_issues)}\")\n"
      ],
      "metadata": {
        "id": "ClLs9M7m2vZ6"
      },
      "execution_count": null,
      "outputs": []
    },
    {
      "cell_type": "code",
      "source": [
        "pred_df = pd.DataFrame(fixed_predictions)\n",
        "pred_df"
      ],
      "metadata": {
        "id": "SA9cQ-px0BrG"
      },
      "execution_count": null,
      "outputs": []
    },
    {
      "cell_type": "code",
      "source": [],
      "metadata": {
        "id": "hqGQk9HOzdQp"
      },
      "execution_count": null,
      "outputs": []
    },
    {
      "cell_type": "code",
      "source": [
        "# Import pandas\n",
        "import pandas as pd\n",
        "\n",
        "pred_emotion = ['p_anger', 'p_fear', 'p_joy', 'p_sadness', 'p_surprise']\n",
        "\n",
        "# Ensure pred_df and data have compatible indexes before assignment\n",
        "# This will reindex pred_df to match data's index, filling missing values with NaN\n",
        "pred_df = pred_df.reindex(data.index)\n",
        "\n",
        "for emotion in pred_emotion:\n",
        "  data[emotion] = pred_df[emotion].values\n",
        "\n",
        "data.head()"
      ],
      "metadata": {
        "id": "j2owrPIX0VWi"
      },
      "execution_count": null,
      "outputs": []
    },
    {
      "cell_type": "code",
      "source": [
        "from sklearn.metrics import classification_report\n",
        "\n",
        "# Assuming you have true labels in the DataFrame as 'true_anger', 'true_fear', etc.\n",
        "true_labels = ['Anger', 'Fear', 'Joy', 'Sadness', 'Surprise']\n",
        "pred_emotion = ['p_anger', 'p_fear', 'p_joy', 'p_sadness', 'p_surprise']\n",
        "\n",
        "# Create an empty dictionary to store classification reports for each emotion\n",
        "classification_reports = {}\n",
        "\n",
        "# Iterate through each emotion and calculate the classification report\n",
        "for true_label, pred_label in zip(true_labels, pred_emotion):\n",
        "    true_values = data[true_label]  # True labels for the emotion\n",
        "    pred_values = data[pred_label]  # Predicted labels for the emotion\n",
        "\n",
        "    # Convert predicted values to integers to match true values\n",
        "    pred_values = pred_values.fillna(0)\n",
        "    pred_values = pred_values.astype(int)\n",
        "\n",
        "    # Generate the classification report\n",
        "    report = classification_report(true_values, pred_values)\n",
        "\n",
        "    # Store the report in the dictionary\n",
        "    classification_reports[true_label] = report\n",
        "\n",
        "# Print the classification reports\n",
        "for emotion, report in classification_reports.items():\n",
        "    print(f\"Classification Report for {emotion}:\")\n",
        "    print(report)\n",
        "    print(\"\\n\")"
      ],
      "metadata": {
        "id": "lJGVbbZ40gQO"
      },
      "execution_count": null,
      "outputs": []
    },
    {
      "cell_type": "code",
      "source": [],
      "metadata": {
        "id": "qt0SIRoaDi-l"
      },
      "execution_count": null,
      "outputs": []
    }
  ],
  "metadata": {
    "colab": {
      "provenance": [],
      "include_colab_link": true
    },
    "kernelspec": {
      "display_name": "Python 3",
      "name": "python3"
    },
    "language_info": {
      "name": "python"
    }
  },
  "nbformat": 4,
  "nbformat_minor": 0
}