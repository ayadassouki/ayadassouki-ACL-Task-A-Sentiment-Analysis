{
  "nbformat": 4,
  "nbformat_minor": 0,
  "metadata": {
    "colab": {
      "provenance": [],
      "include_colab_link": true
    },
    "kernelspec": {
      "name": "python3",
      "display_name": "Python 3"
    },
    "language_info": {
      "name": "python"
    }
  },
  "cells": [
    {
      "cell_type": "markdown",
      "metadata": {
        "id": "view-in-github",
        "colab_type": "text"
      },
      "source": [
        "<a href=\"https://colab.research.google.com/github/ayadassouki/ayadassouki-ACL-Task-A-Sentiment-Analysis/blob/main/distillbert(Pre_fine_tuning).ipynb\" target=\"_parent\"><img src=\"https://colab.research.google.com/assets/colab-badge.svg\" alt=\"Open In Colab\"/></a>"
      ]
    },
    {
      "cell_type": "code",
      "execution_count": null,
      "metadata": {
        "id": "L4xLuVujqf5b"
      },
      "outputs": [],
      "source": [
        "! pip install transformers torch"
      ]
    },
    {
      "cell_type": "code",
      "source": [
        "from transformers import AutoTokenizer, AutoModelForSequenceClassification\n",
        "import torch\n",
        "\n",
        "# Load the DistilBERT tokenizer and model for sequence classification\n",
        "model_name = \"distilbert-base-uncased\"  # DistilBERT model\n",
        "tokenizer = AutoTokenizer.from_pretrained(model_name)\n",
        "model = AutoModelForSequenceClassification.from_pretrained(model_name, num_labels=5)\n",
        "\n",
        "# Sample text for testing\n",
        "text = \"I just got the best news today! I'm so excited and happy.\"\n",
        "\n",
        "# Prepare the input for DistilBERT\n",
        "inputs = tokenizer(text, return_tensors=\"pt\", truncation=True, padding=True, max_length=512)\n",
        "\n",
        "# Make the prediction\n",
        "with torch.no_grad():\n",
        "    outputs = model(**inputs)\n",
        "\n",
        "# Get logits (raw predictions)\n",
        "logits = outputs.logits\n",
        "\n",
        "# Apply a sigmoid to convert logits to probabilities\n",
        "sigmoid = torch.nn.Sigmoid()\n",
        "probs = sigmoid(logits)\n",
        "\n",
        "# Define emotion labels corresponding to the 5 outputs\n",
        "emotion_labels = [\"Anger\", \"Fear\", \"Joy\", \"Sadness\", \"Surprise\"]\n",
        "\n",
        "# Convert probabilities to binary values (1 if > 0.5, else 0)\n",
        "predictions = (probs > 0.5).int()\n",
        "\n",
        "# Print the results as a dictionary\n",
        "result = {emotion_labels[i]: predictions[0][i].item() for i in range(len(emotion_labels))}\n",
        "print(result)\n"
      ],
      "metadata": {
        "id": "7pJO-9MPqkgA"
      },
      "execution_count": null,
      "outputs": []
    },
    {
      "cell_type": "code",
      "source": [
        "import pandas as pd\n",
        "data = pd.read_csv('eng.csv')\n",
        "data.drop(['id'], axis=1, inplace=True)\n",
        "data.head()"
      ],
      "metadata": {
        "id": "xB_looaAqry2"
      },
      "execution_count": null,
      "outputs": []
    },
    {
      "cell_type": "code",
      "source": [
        "text_data = data['text'].tolist()\n",
        "len(text_data)"
      ],
      "metadata": {
        "id": "sKPYs1WjrEmK"
      },
      "execution_count": null,
      "outputs": []
    },
    {
      "cell_type": "code",
      "source": [
        "from transformers import AutoTokenizer, AutoModelForSequenceClassification\n",
        "import torch\n",
        "\n",
        "# Load the DistilBERT tokenizer and model for sequence classification\n",
        "model_name = \"distilbert-base-uncased\"  # DistilBERT model\n",
        "tokenizer = AutoTokenizer.from_pretrained(model_name)\n",
        "model = AutoModelForSequenceClassification.from_pretrained(model_name, num_labels=5)\n",
        "prediction_list = []\n",
        "i = 0\n",
        "for text in text_data:\n",
        "  # Prepare the input for DistilBERT\n",
        "  inputs = tokenizer(text, return_tensors=\"pt\", truncation=True, padding=True, max_length=512)\n",
        "\n",
        "  # Make the prediction\n",
        "  with torch.no_grad():\n",
        "      outputs = model(**inputs)\n",
        "\n",
        "  # Get logits (raw predictions)\n",
        "  logits = outputs.logits\n",
        "\n",
        "  # Apply a sigmoid to convert logits to probabilities\n",
        "  sigmoid = torch.nn.Sigmoid()\n",
        "  probs = sigmoid(logits)\n",
        "\n",
        "  # Define emotion labels corresponding to the 5 outputs\n",
        "  emotion_labels = [\"Anger\", \"Fear\", \"Joy\", \"Sadness\", \"Surprise\"]\n",
        "\n",
        "  # Convert probabilities to binary values (1 if > 0.5, else 0)\n",
        "  predictions = (probs > 0.5).int()\n",
        "\n",
        "  # Print the results as a dictionary\n",
        "  result = {emotion_labels[i]: predictions[0][i].item() for i in range(len(emotion_labels))}\n",
        "  prediction_list.append(result)\n",
        "  print(f\"predictions made: {i}/2768\")\n",
        "  i = i+1\n",
        "\n",
        "len(predictions)\n"
      ],
      "metadata": {
        "id": "_LLxtneArhYE"
      },
      "execution_count": null,
      "outputs": []
    },
    {
      "cell_type": "code",
      "source": [
        "len(prediction_list)"
      ],
      "metadata": {
        "id": "7BoskX4Ms4O2"
      },
      "execution_count": null,
      "outputs": []
    },
    {
      "cell_type": "code",
      "source": [
        "result_df = pd.DataFrame(prediction_list)\n",
        "result_df.head()"
      ],
      "metadata": {
        "id": "BkJ03E9owKAc"
      },
      "execution_count": null,
      "outputs": []
    },
    {
      "cell_type": "code",
      "source": [
        "result_df.rename(columns={'Anger': 'p_anger', 'Fear': 'p_fear', 'Joy': 'p_joy', 'Sadness': 'p_sadness', 'Surprise': 'p_surprise'}, inplace=True)\n",
        "result_df.head()"
      ],
      "metadata": {
        "id": "rBmZKaUQwruU"
      },
      "execution_count": null,
      "outputs": []
    },
    {
      "cell_type": "code",
      "source": [
        "result_df['text'] = data['text'].values\n",
        "result_df.head()"
      ],
      "metadata": {
        "id": "0P0m_RR-xPze"
      },
      "execution_count": null,
      "outputs": []
    },
    {
      "cell_type": "code",
      "source": [
        "# Columns to add\n",
        "columns_to_add = ['Anger', 'Fear', 'Joy', 'Sadness', 'Surprise']\n",
        "\n",
        "# Iterate over columns_to_add and set the corresponding values from val_df\n",
        "for col in columns_to_add:\n",
        "    result_df[col] = data[col].values\n",
        "\n",
        "# Display the updated v_df\n",
        "result_df.head()"
      ],
      "metadata": {
        "id": "ffY86vatw6Lc"
      },
      "execution_count": null,
      "outputs": []
    },
    {
      "cell_type": "code",
      "source": [
        "from sklearn.metrics import classification_report\n",
        "\n",
        "# Assuming you have true labels in the DataFrame as 'true_anger', 'true_fear', etc.\n",
        "true_labels = ['Anger', 'Fear', 'Joy', 'Sadness', 'Surprise']\n",
        "pred_emotion = ['p_anger', 'p_fear', 'p_joy', 'p_sadness', 'p_surprise']\n",
        "\n",
        "# Create an empty dictionary to store classification reports for each emotion\n",
        "classification_reports = {}\n",
        "\n",
        "# Iterate through each emotion and calculate the classification report\n",
        "for true_label, pred_label in zip(true_labels, pred_emotion):\n",
        "    true_values = result_df[true_label]  # True labels for the emotion\n",
        "    pred_values = result_df[pred_label]  # Predicted labels for the emotion\n",
        "\n",
        "\n",
        "    # Generate the classification report\n",
        "    report = classification_report(true_values, pred_values)\n",
        "\n",
        "    # Store the report in the dictionary\n",
        "    classification_reports[true_label] = report\n",
        "\n",
        "# Print the classification reports\n",
        "for emotion, report in classification_reports.items():\n",
        "    print(f\"Classification Report for {emotion}:\")\n",
        "    print(report)\n",
        "    print(\"\\n\")"
      ],
      "metadata": {
        "id": "Ho3Uy5pGxV7j"
      },
      "execution_count": null,
      "outputs": []
    },
    {
      "cell_type": "code",
      "source": [],
      "metadata": {
        "id": "y1luw2BQxnW5"
      },
      "execution_count": null,
      "outputs": []
    }
  ]
}